{
 "cells": [
  {
   "cell_type": "markdown",
   "metadata": {},
   "source": [
    "**Exercise 2 - Calculate basic performance:**\n",
    "\n",
    "Go to the directory ``HPC_training/Exercise_2`` and look at the performance.all file: "
   ]
  },
  {
   "cell_type": "code",
   "execution_count": null,
   "metadata": {},
   "outputs": [],
   "source": [
    "cat performance.all"
   ]
  },
  {
   "cell_type": "markdown",
   "metadata": {},
   "source": [
    "Inspect and fill in the Python script below to evaluate performance based on the job runtimes.\n",
    "Complete the ``x`` array with number of used cores and ``y`` with the corresponding runtime value. Then, calculate the runtime performance:"
   ]
  },
  {
   "cell_type": "code",
   "execution_count": null,
   "metadata": {},
   "outputs": [],
   "source": [
    "import pandas as pd\n",
    "import matplotlib.pyplot as plt\n",
    "plt.style.use('seaborn-whitegrid')\n",
    "filename = 'performance.all'\n",
    "data=pd.read_csv(filename, sep=' ', header=None).values\n",
    "plt.xlabel('Number of MPI processes')\n",
    "x = data[:,0]\n",
    "plt.ylabel('Performance in seconds')\n",
    "y = data[:,1]\n",
    "plt.plot(x,y,'-ok')\n",
    "plt.show()"
   ]
  }
 ],
 "metadata": {
  "kernelspec": {
   "display_name": "Python 3",
   "language": "python",
   "name": "python3"
  },
  "language_info": {
   "codemirror_mode": {
    "name": "ipython",
    "version": 3
   },
   "file_extension": ".py",
   "mimetype": "text/x-python",
   "name": "python",
   "nbconvert_exporter": "python",
   "pygments_lexer": "ipython3",
   "version": "3.7.3"
  }
 },
 "nbformat": 4,
 "nbformat_minor": 2
}
