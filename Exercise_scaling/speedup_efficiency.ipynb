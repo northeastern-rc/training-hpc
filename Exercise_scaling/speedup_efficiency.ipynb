{
 "cells": [
  {
   "cell_type": "markdown",
   "metadata": {},
   "source": [
    "**<font size=\"4\">Exercise 3</font>**\n",
    "\n",
    "**Task 1 - Speedup and Efficiency of multiVec**\n",
    "\n",
    "Evaluate the speedup and efficiency of the parallel program ``multVec`` from Exercise 1. First, collect the runtime data from the file ``HPC_optimization_and_scalability/Exercise_1/performance.all``:"
   ]
  },
  {
   "cell_type": "code",
   "execution_count": null,
   "metadata": {},
   "outputs": [],
   "source": [
    "cat ../Exercise_1/performance.all"
   ]
  },
  {
   "cell_type": "markdown",
   "metadata": {},
   "source": [
    "Inspect and fill in the Python script below to evaluate speedup and efficiency based on Exercise 1 job runtimes:\n",
    "1. Complete the runtime of for a single core (T1=)\n",
    "2. Run the Python script to get the speedup and efficiency for multVec. \n",
    "3. What is the \"sweet spot\" for efficiency? (how many cores will produce the highest increase in speedup while maintining a low loss in efficiency? "
   ]
  },
  {
   "cell_type": "code",
   "execution_count": null,
   "metadata": {},
   "outputs": [],
   "source": [
    "import pandas as pd\n",
    "import numpy as np\n",
    "import matplotlib.pyplot as plt\n",
    "plt.style.use('seaborn-whitegrid')\n",
    "filename = '../Exercise_1/performance.all'\n",
    "data=pd.read_csv(filename, sep=' ', header=None).values\n",
    "x = data[:,0]\n",
    "y = data[:,1]\n",
    "## Enter the 1-core runtime:\n",
    "T1=\n",
    "## Calculate speedup:\n",
    "speedup=T1/y\n",
    "plt.ylabel('Speedup')\n",
    "plt.plot(x,speedup,'-ok')\n",
    "plt.show()\n",
    "## Calculate efficiency:\n",
    "efficiency=speedup/x\n",
    "plt.xlabel('Number of cores')\n",
    "plt.ylabel('Efficiency')\n",
    "plt.plot(x,efficiency,'-ok')\n",
    "plt.show()"
   ]
  },
  {
   "cell_type": "markdown",
   "metadata": {},
   "source": [
    "**Task 2 - Speedup and Efficiency of calcMatrix.py**\n",
    "\n",
    "Evaluate the speedup and efficiency of the parallel program ``calcMatrix.py`` from Exercise 2. First, collect the runtime data from the file ``HPC_optimization_and_scalability/Exercise_2/performance.all``:"
   ]
  },
  {
   "cell_type": "code",
   "execution_count": null,
   "metadata": {},
   "outputs": [],
   "source": [
    "cat ../Exercise_2/performance.all"
   ]
  },
  {
   "cell_type": "markdown",
   "metadata": {},
   "source": [
    "As in task 1, fill in the Python script below to evaluate speedup and efficiency based on Exercise 2 job runtimes:\n",
    "1. Complete the runtime of for a single core (T1=)\n",
    "2. Run the Python script below.\n",
    "3. What is the \"sweet spot\" for efficiency? (how many cores will produce the highest increase in speedup while maintining a low loss in efficiency? "
   ]
  },
  {
   "cell_type": "code",
   "execution_count": null,
   "metadata": {},
   "outputs": [],
   "source": [
    "import pandas as pd\n",
    "import numpy as np\n",
    "import matplotlib.pyplot as plt\n",
    "plt.style.use('seaborn-whitegrid')\n",
    "filename = '../Exercise_2/performance.all'\n",
    "data=pd.read_csv(filename, sep=' ', header=None).values\n",
    "x = data[:,0]\n",
    "y = data[:,1]\n",
    "## Enter the 1-core runtime:\n",
    "T1=\n",
    "## Calculate speedup:\n",
    "speedup=T1/y\n",
    "plt.ylabel('Speedup')\n",
    "plt.plot(x,speedup,'-ok')\n",
    "plt.show()\n",
    "## Calculate efficiency:\n",
    "efficiency=speedup/x\n",
    "plt.xlabel('Number of cores')\n",
    "plt.ylabel('Efficiency')\n",
    "plt.plot(x,efficiency,'-ok')\n",
    "plt.show()"
   ]
  },
  {
   "cell_type": "markdown",
   "metadata": {},
   "source": [
    "**Discussion:**\n",
    "\n",
    "Is it possible to determine which parallelization scheme is better based on these examples? does the communication/synchronization of each parallel model play a large role? what happens when the data is significantly larger? what happens when the number of processors is significantly larger?"
   ]
  }
 ],
 "metadata": {
  "kernelspec": {
   "display_name": "Python 3",
   "language": "python",
   "name": "python3"
  },
  "language_info": {
   "codemirror_mode": {
    "name": "ipython",
    "version": 3
   },
   "file_extension": ".py",
   "mimetype": "text/x-python",
   "name": "python",
   "nbconvert_exporter": "python",
   "pygments_lexer": "ipython3",
   "version": "3.7.3"
  }
 },
 "nbformat": 4,
 "nbformat_minor": 2
}
